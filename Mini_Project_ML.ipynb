{
  "nbformat": 4,
  "nbformat_minor": 0,
  "metadata": {
    "colab": {
      "name": "Mini Project ML.ipynb",
      "provenance": [],
      "collapsed_sections": [],
      "mount_file_id": "1P4qT_GOouh3CpMzvH8lOgyFAa35Fe_vN",
      "authorship_tag": "ABX9TyN7ybgXciadgrdawoxl0Gjd",
      "include_colab_link": true
    },
    "kernelspec": {
      "name": "python3",
      "display_name": "Python 3"
    },
    "language_info": {
      "name": "python"
    }
  },
  "cells": [
    {
      "cell_type": "markdown",
      "metadata": {
        "id": "view-in-github",
        "colab_type": "text"
      },
      "source": [
        "<a href=\"https://colab.research.google.com/github/B-Shruti/Mini-Project/blob/main/Mini_Project_ML.ipynb\" target=\"_parent\"><img src=\"https://colab.research.google.com/assets/colab-badge.svg\" alt=\"Open In Colab\"/></a>"
      ]
    },
    {
      "cell_type": "code",
      "metadata": {
        "colab": {
          "base_uri": "https://localhost:8080/"
        },
        "id": "VKf69Cb81ZcA",
        "outputId": "d573f569-f200-4ff9-cdc7-dec1e74f99fd"
      },
      "source": [
        "#Installing bing image downloader into the colab to collect data\n",
        "!pip install bing-image-downloader"
      ],
      "execution_count": 1,
      "outputs": [
        {
          "output_type": "stream",
          "text": [
            "Collecting bing-image-downloader\n",
            "  Downloading https://files.pythonhosted.org/packages/0d/bf/537a61030b84ae4cd5022d5c7b014fd9bc3ce7c02358919153a6658a61d3/bing_image_downloader-1.0.4-py3-none-any.whl\n",
            "Installing collected packages: bing-image-downloader\n",
            "Successfully installed bing-image-downloader-1.0.4\n"
          ],
          "name": "stdout"
        }
      ]
    },
    {
      "cell_type": "code",
      "metadata": {
        "id": "Qmci4KeM18rE"
      },
      "source": [
        "#Create a directory named images \n",
        "!mkdir images "
      ],
      "execution_count": 2,
      "outputs": []
    },
    {
      "cell_type": "code",
      "metadata": {
        "id": "JAQRkbvnjzK5"
      },
      "source": [
        ""
      ],
      "execution_count": 2,
      "outputs": []
    },
    {
      "cell_type": "code",
      "metadata": {
        "colab": {
          "base_uri": "https://localhost:8080/"
        },
        "id": "LdIrX8Su2QhQ",
        "outputId": "e6a6d079-350f-4b13-9ead-8437595e4fae"
      },
      "source": [
        "from bing_image_downloader import downloader\n",
        "# Downloading the images of Giraffe from bing image downloader\n",
        "downloader.download(\"Giraffe\",limit=50, output_dir=\"images\")"
      ],
      "execution_count": 3,
      "outputs": [
        {
          "output_type": "stream",
          "text": [
            "\n",
            "\n",
            "[!!]Indexing page: 1\n",
            "\n",
            "[%] Indexed 12 Images on Page 1.\n",
            "\n",
            "===============================================\n",
            "\n",
            "[%] Downloading Image #1 from http://www.wallpapers13.com/wp-content/uploads/2016/05/Animals-Giraffe-Giraffa-Camelopardalis-African-ungulates-mammal-highest-land-animals-and-largest-ruminant.jpg\n",
            "[%] File Downloaded !\n",
            "\n",
            "[%] Downloading Image #2 from http://cute-n-tiny.com/wp-content/uploads/2009/03/panda3.jpg\n",
            "[!] Issue getting: http://cute-n-tiny.com/wp-content/uploads/2009/03/panda3.jpg\n",
            "[!] Error:: HTTP Error 404: Not Found\n",
            "[%] Downloading Image #2 from http://www.barnorama.com/wp-content/images/2011/02/m81/17.jpg\n",
            "[%] File Downloaded !\n",
            "\n",
            "[%] Downloading Image #3 from https://img-prod-cms-rt-microsoft-com.akamaized.net/cms/api/am/imageFileData/RE4rWXA?ver=4094\n",
            "[%] File Downloaded !\n",
            "\n",
            "[%] Downloading Image #4 from https://www.zooborns.com/.a/6a010535647bf3970b0177443cb4dc970d-600wi\n",
            "[%] File Downloaded !\n",
            "\n",
            "[%] Downloading Image #5 from https://www.textures.com/system/gallery/photos/Animals/Reptiles/Snakes/21738/Reptiles0021_1_600.jpg?v=4\n",
            "[%] File Downloaded !\n",
            "\n",
            "[%] Downloading Image #6 from https://img-prod-cms-rt-microsoft-com.akamaized.net/cms/api/am/imageFileData/RE4FqCI?ver=d5f6\n",
            "[%] File Downloaded !\n",
            "\n",
            "[%] Downloading Image #7 from https://i.pinimg.com/736x/8c/70/24/8c7024e07afd8896276ebc4dff569c9f.jpg\n",
            "[%] File Downloaded !\n",
            "\n",
            "[%] Downloading Image #8 from http://4.bp.blogspot.com/_hEJtkJ2d1Io/TS34994FSYI/AAAAAAAAAOo/B-poRl8uRAk/s1600/jirafuego.jpg\n",
            "[%] File Downloaded !\n",
            "\n",
            "[%] Downloading Image #9 from https://wallpapershome.com/images/wallpapers/penguins-3840x2160-ocean-8k-17417.jpg\n",
            "[%] File Downloaded !\n",
            "\n",
            "[%] Downloading Image #10 from https://kentattractions.co.uk/wp-content/uploads/2016/04/Port-Lympne-3.jpg\n",
            "[%] File Downloaded !\n",
            "\n",
            "[%] Downloading Image #11 from https://www.textures.com/system/gallery/photos/Animals/Reptiles/Snakes/9432/Reptiles0020_600.jpg?v=5\n",
            "[%] File Downloaded !\n",
            "\n",
            "\n",
            "\n",
            "[!!]Indexing page: 2\n",
            "\n",
            "[%] Indexed 12 Images on Page 2.\n",
            "\n",
            "===============================================\n",
            "\n",
            "[%] Downloading Image #12 from http://www.wallpapers13.com/wp-content/uploads/2016/05/Animals-Giraffe-Giraffa-Camelopardalis-African-ungulates-mammal-highest-land-animals-and-largest-ruminant.jpg\n",
            "[%] File Downloaded !\n",
            "\n",
            "[%] Downloading Image #13 from http://cute-n-tiny.com/wp-content/uploads/2009/03/panda3.jpg\n",
            "[!] Issue getting: http://cute-n-tiny.com/wp-content/uploads/2009/03/panda3.jpg\n",
            "[!] Error:: HTTP Error 404: Not Found\n",
            "[%] Downloading Image #13 from http://www.barnorama.com/wp-content/images/2011/02/m81/17.jpg\n",
            "[%] File Downloaded !\n",
            "\n",
            "[%] Downloading Image #14 from https://img-prod-cms-rt-microsoft-com.akamaized.net/cms/api/am/imageFileData/RE4rWXA?ver=4094\n",
            "[%] File Downloaded !\n",
            "\n",
            "[%] Downloading Image #15 from https://www.zooborns.com/.a/6a010535647bf3970b0177443cb4dc970d-600wi\n",
            "[%] File Downloaded !\n",
            "\n",
            "[%] Downloading Image #16 from https://www.textures.com/system/gallery/photos/Animals/Reptiles/Snakes/21738/Reptiles0021_1_600.jpg?v=4\n",
            "[%] File Downloaded !\n",
            "\n",
            "[%] Downloading Image #17 from https://img-prod-cms-rt-microsoft-com.akamaized.net/cms/api/am/imageFileData/RE4FqCI?ver=d5f6\n",
            "[%] File Downloaded !\n",
            "\n",
            "[%] Downloading Image #18 from https://i.pinimg.com/736x/8c/70/24/8c7024e07afd8896276ebc4dff569c9f.jpg\n",
            "[%] File Downloaded !\n",
            "\n",
            "[%] Downloading Image #19 from http://4.bp.blogspot.com/_hEJtkJ2d1Io/TS34994FSYI/AAAAAAAAAOo/B-poRl8uRAk/s1600/jirafuego.jpg\n",
            "[%] File Downloaded !\n",
            "\n",
            "[%] Downloading Image #20 from https://wallpapershome.com/images/wallpapers/penguins-3840x2160-ocean-8k-17417.jpg\n",
            "[%] File Downloaded !\n",
            "\n",
            "[%] Downloading Image #21 from https://kentattractions.co.uk/wp-content/uploads/2016/04/Port-Lympne-3.jpg\n",
            "[%] File Downloaded !\n",
            "\n",
            "[%] Downloading Image #22 from https://www.textures.com/system/gallery/photos/Animals/Reptiles/Snakes/9432/Reptiles0020_600.jpg?v=5\n",
            "[%] File Downloaded !\n",
            "\n",
            "\n",
            "\n",
            "[!!]Indexing page: 3\n",
            "\n",
            "[%] Indexed 11 Images on Page 3.\n",
            "\n",
            "===============================================\n",
            "\n",
            "[%] Downloading Image #23 from http://www.barnorama.com/wp-content/images/2011/02/m81/17.jpg\n",
            "[%] File Downloaded !\n",
            "\n",
            "[%] Downloading Image #24 from https://www.zooborns.com/.a/6a010535647bf3970b0177443cb4dc970d-600wi\n",
            "[%] File Downloaded !\n",
            "\n",
            "[%] Downloading Image #25 from https://www.textures.com/system/gallery/photos/Animals/Reptiles/Snakes/21738/Reptiles0021_1_600.jpg?v=4\n",
            "[%] File Downloaded !\n",
            "\n",
            "[%] Downloading Image #26 from https://www.textures.com/system/gallery/photos/Animals/Reptiles/Snakes/9432/Reptiles0020_600.jpg?v=5\n",
            "[%] File Downloaded !\n",
            "\n",
            "[%] Downloading Image #27 from https://i.pinimg.com/736x/8c/70/24/8c7024e07afd8896276ebc4dff569c9f.jpg\n",
            "[%] File Downloaded !\n",
            "\n",
            "[%] Downloading Image #28 from https://img-prod-cms-rt-microsoft-com.akamaized.net/cms/api/am/imageFileData/RE4FqCI?ver=d5f6\n",
            "[%] File Downloaded !\n",
            "\n",
            "[%] Downloading Image #29 from https://wallpapershome.com/images/wallpapers/penguins-3840x2160-ocean-8k-17417.jpg\n",
            "[%] File Downloaded !\n",
            "\n",
            "[%] Downloading Image #30 from https://img-prod-cms-rt-microsoft-com.akamaized.net/cms/api/am/imageFileData/RE4rWXA?ver=4094\n",
            "[%] File Downloaded !\n",
            "\n",
            "[%] Downloading Image #31 from http://cute-n-tiny.com/wp-content/uploads/2009/03/panda3.jpg\n",
            "[!] Issue getting: http://cute-n-tiny.com/wp-content/uploads/2009/03/panda3.jpg\n",
            "[!] Error:: HTTP Error 404: Not Found\n",
            "[%] Downloading Image #31 from https://kentattractions.co.uk/wp-content/uploads/2016/04/Port-Lympne-3.jpg\n",
            "[%] File Downloaded !\n",
            "\n",
            "[%] Downloading Image #32 from http://4.bp.blogspot.com/_hEJtkJ2d1Io/TS34994FSYI/AAAAAAAAAOo/B-poRl8uRAk/s1600/jirafuego.jpg\n",
            "[%] File Downloaded !\n",
            "\n",
            "\n",
            "\n",
            "[!!]Indexing page: 4\n",
            "\n",
            "[%] Indexed 10 Images on Page 4.\n",
            "\n",
            "===============================================\n",
            "\n",
            "[%] Downloading Image #33 from https://www.zooborns.com/.a/6a010535647bf3970b0177443cb4dc970d-600wi\n",
            "[%] File Downloaded !\n",
            "\n",
            "[%] Downloading Image #34 from http://4.bp.blogspot.com/_hEJtkJ2d1Io/TS34994FSYI/AAAAAAAAAOo/B-poRl8uRAk/s1600/jirafuego.jpg\n",
            "[%] File Downloaded !\n",
            "\n",
            "[%] Downloading Image #35 from https://i.pinimg.com/736x/8c/70/24/8c7024e07afd8896276ebc4dff569c9f.jpg\n",
            "[%] File Downloaded !\n",
            "\n",
            "[%] Downloading Image #36 from https://www.textures.com/system/gallery/photos/Animals/Reptiles/Snakes/9432/Reptiles0020_600.jpg?v=5\n",
            "[%] File Downloaded !\n",
            "\n",
            "[%] Downloading Image #37 from https://wallpapershome.com/images/wallpapers/penguins-3840x2160-ocean-8k-17417.jpg\n",
            "[%] File Downloaded !\n",
            "\n",
            "[%] Downloading Image #38 from https://www.textures.com/system/gallery/photos/Animals/Reptiles/Snakes/21738/Reptiles0021_1_600.jpg?v=4\n",
            "[%] File Downloaded !\n",
            "\n",
            "[%] Downloading Image #39 from https://kentattractions.co.uk/wp-content/uploads/2016/04/Port-Lympne-3.jpg\n",
            "[%] File Downloaded !\n",
            "\n",
            "[%] Downloading Image #40 from https://img-prod-cms-rt-microsoft-com.akamaized.net/cms/api/am/imageFileData/RE4FqCI?ver=d5f6\n",
            "[%] File Downloaded !\n",
            "\n",
            "[%] Downloading Image #41 from https://img-prod-cms-rt-microsoft-com.akamaized.net/cms/api/am/imageFileData/RE4rWXA?ver=4094\n",
            "[%] File Downloaded !\n",
            "\n",
            "[%] Downloading Image #42 from http://cute-n-tiny.com/wp-content/uploads/2009/03/panda3.jpg\n",
            "[!] Issue getting: http://cute-n-tiny.com/wp-content/uploads/2009/03/panda3.jpg\n",
            "[!] Error:: HTTP Error 404: Not Found\n",
            "\n",
            "\n",
            "[!!]Indexing page: 5\n",
            "\n",
            "[%] Indexed 9 Images on Page 5.\n",
            "\n",
            "===============================================\n",
            "\n",
            "[%] Downloading Image #42 from https://i.pinimg.com/736x/8c/70/24/8c7024e07afd8896276ebc4dff569c9f.jpg\n",
            "[%] File Downloaded !\n",
            "\n",
            "[%] Downloading Image #43 from https://wallpapershome.com/images/wallpapers/penguins-3840x2160-ocean-8k-17417.jpg\n",
            "[%] File Downloaded !\n",
            "\n",
            "[%] Downloading Image #44 from https://img-prod-cms-rt-microsoft-com.akamaized.net/cms/api/am/imageFileData/RE4FqCI?ver=d5f6\n",
            "[%] File Downloaded !\n",
            "\n",
            "[%] Downloading Image #45 from https://kentattractions.co.uk/wp-content/uploads/2016/04/Port-Lympne-3.jpg\n",
            "[%] File Downloaded !\n",
            "\n",
            "[%] Downloading Image #46 from https://www.textures.com/system/gallery/photos/Animals/Reptiles/Snakes/9432/Reptiles0020_600.jpg?v=5\n",
            "[%] File Downloaded !\n",
            "\n",
            "[%] Downloading Image #47 from https://img-prod-cms-rt-microsoft-com.akamaized.net/cms/api/am/imageFileData/RE4rWXA?ver=4094\n",
            "[%] File Downloaded !\n",
            "\n",
            "[%] Downloading Image #48 from http://cute-n-tiny.com/wp-content/uploads/2009/03/panda3.jpg\n",
            "[!] Issue getting: http://cute-n-tiny.com/wp-content/uploads/2009/03/panda3.jpg\n",
            "[!] Error:: HTTP Error 404: Not Found\n",
            "[%] Downloading Image #48 from https://www.textures.com/system/gallery/photos/Animals/Reptiles/Snakes/21738/Reptiles0021_1_600.jpg?v=4\n",
            "[%] File Downloaded !\n",
            "\n",
            "[%] Downloading Image #49 from http://4.bp.blogspot.com/_hEJtkJ2d1Io/TS34994FSYI/AAAAAAAAAOo/B-poRl8uRAk/s1600/jirafuego.jpg\n",
            "[%] File Downloaded !\n",
            "\n",
            "\n",
            "\n",
            "[!!]Indexing page: 6\n",
            "\n",
            "[%] Indexed 8 Images on Page 6.\n",
            "\n",
            "===============================================\n",
            "\n",
            "[%] Downloading Image #50 from https://wallpapershome.com/images/wallpapers/penguins-3840x2160-ocean-8k-17417.jpg\n",
            "[%] File Downloaded !\n",
            "\n",
            "\n",
            "\n",
            "[%] Done. Downloaded 50 images.\n",
            "\n",
            "===============================================\n",
            "\n"
          ],
          "name": "stdout"
        }
      ]
    },
    {
      "cell_type": "code",
      "metadata": {
        "colab": {
          "base_uri": "https://localhost:8080/"
        },
        "id": "dEsbSMC63H0H",
        "outputId": "371db0a5-4e67-4d0e-c76e-8577c8e0641d"
      },
      "source": [
        "# Downloading the images of Elephants from bing image downloader\n",
        "downloader.download(\"Elephant\",limit=50, output_dir=\"images\")"
      ],
      "execution_count": 4,
      "outputs": [
        {
          "output_type": "stream",
          "text": [
            "\n",
            "\n",
            "[!!]Indexing page: 1\n",
            "\n",
            "[%] Indexed 12 Images on Page 1.\n",
            "\n",
            "===============================================\n",
            "\n",
            "[%] Downloading Image #1 from https://www.zooborns.com/.a/6a010535647bf3970b019b0004b419970b-600wi\n",
            "[%] File Downloaded !\n",
            "\n",
            "[%] Downloading Image #2 from https://www.gratistodo.com/wp-content/uploads/2016/12/elefantes-wallpapers-12.jpg\n",
            "[%] File Downloaded !\n",
            "\n",
            "[%] Downloading Image #3 from http://messagenote.com/wp-content/uploads/2015/06/gold-chinoiserie-panels-in-the-kitchen.jpg\n",
            "[%] File Downloaded !\n",
            "\n",
            "[%] Downloading Image #4 from https://babyshowerideas4u.com/wp-content/uploads/2016/06/Chevron-Elephant-Baby-Shower-Cake-Pops.jpg\n",
            "[%] File Downloaded !\n",
            "\n",
            "[%] Downloading Image #5 from https://www.plantant.com/supplierimages/image.php/codiaeum-variegatum-fantasy-croton-1000326357-1377719151.jpg?width=1000&amp;height=1000&amp;image=/public/supplierimages/plants/1000326357-1377719151.jpg\n",
            "[!] Issue getting: https://www.plantant.com/supplierimages/image.php/codiaeum-variegatum-fantasy-croton-1000326357-1377719151.jpg?width=1000&amp;height=1000&amp;image=/public/supplierimages/plants/1000326357-1377719151.jpg\n",
            "[!] Error:: HTTP Error 400: Bad Request\n",
            "[%] Downloading Image #5 from https://hative.com/wp-content/uploads/2014/04/perler-beads-patterns/33-christmas-grinch.png\n",
            "[%] File Downloaded !\n",
            "\n",
            "[%] Downloading Image #6 from https://live.staticflickr.com/5166/5288715931_754b66c65f_b.jpg\n",
            "[%] File Downloaded !\n",
            "\n",
            "[%] Downloading Image #7 from https://babyshowerideas4u.com/wp-content/uploads/2016/03/Baby-Shower-Elephants-Dessert-Table-6.jpg\n",
            "[%] File Downloaded !\n",
            "\n",
            "[%] Downloading Image #8 from https://beautyharmonylife.com/wp-content/uploads/2013/11/1309211243864275-800x1066.jpg\n",
            "[%] File Downloaded !\n",
            "\n",
            "[%] Downloading Image #9 from http://www.diytomake.com/wp-content/uploads/2015/11/paper-Pumpkin-Centerpiece-DIY.jpg\n",
            "[%] File Downloaded !\n",
            "\n",
            "[%] Downloading Image #10 from https://www.sunnyskyz.com/uploads/2015/02/uhwr0-21-Liowl.jpg\n",
            "[%] File Downloaded !\n",
            "\n",
            "[%] Downloading Image #11 from https://www.demilked.com/magazine/wp-content/uploads/2014/02/cat-home-playground-trillium-enterprises-5.jpg\n",
            "[%] File Downloaded !\n",
            "\n",
            "\n",
            "\n",
            "[!!]Indexing page: 2\n",
            "\n",
            "[%] Indexed 11 Images on Page 2.\n",
            "\n",
            "===============================================\n",
            "\n",
            "[%] Downloading Image #12 from https://www.hdwallpapers.in/download/far_cry_4_elephants-1920x1080.jpg\n",
            "[%] File Downloaded !\n",
            "\n",
            "[%] Downloading Image #13 from http://www.diyhowto.org/wp-content/uploads/DIYHowto-Crochet-Ankle-High-Baby-Booties-Free-Patterns-21.jpg\n",
            "[%] File Downloaded !\n",
            "\n",
            "[%] Downloading Image #14 from http://www.babyshowerideas4u.com/wp-content/uploads/2016/03/Baby-Shower-Elephants-Flowers.jpg\n",
            "[%] File Downloaded !\n",
            "\n",
            "[%] Downloading Image #15 from http://thirdmonk.net/postcont/2013/04/Vladamir-Kush-Surreal-Painting-Art-Gallery-Ship-Clouds.jpg\n",
            "[%] File Downloaded !\n",
            "\n",
            "[%] Downloading Image #16 from https://hative.com/wp-content/uploads/2014/10/pumpkin-carving-ideas/19-abstract-pumpkin.jpg\n",
            "[%] File Downloaded !\n",
            "\n",
            "[%] Downloading Image #17 from http://www.babyshowerideas4u.com/wp-content/uploads/2014/01/boy-7.jpg\n",
            "[%] File Downloaded !\n",
            "\n",
            "[%] Downloading Image #18 from https://www.gratistodo.com/wp-content/uploads/2016/12/elefantes-wallpapers-24.jpg\n",
            "[%] File Downloaded !\n",
            "\n",
            "[%] Downloading Image #19 from https://www.hdwallpapers.in/download/deadly_snake-1920x1200.jpg\n",
            "[%] File Downloaded !\n",
            "\n",
            "[%] Downloading Image #20 from http://4.bp.blogspot.com/_XZEJOXcMQiI/S2PNCAn6gCI/AAAAAAAAA5E/aS3e5GKsJoM/s640/Funny_People_pics_10_18.jpg\n",
            "[%] File Downloaded !\n",
            "\n",
            "[%] Downloading Image #21 from https://images.gawker.com/18r8g5ynq2zv6jpg/original.jpg\n",
            "[%] File Downloaded !\n",
            "\n",
            "[%] Downloading Image #22 from https://ww1.prweb.com/prfiles/2010/09/13/3945524/Peter2.jpg\n",
            "[%] File Downloaded !\n",
            "\n",
            "\n",
            "\n",
            "[!!]Indexing page: 3\n",
            "\n",
            "[%] Indexed 10 Images on Page 3.\n",
            "\n",
            "===============================================\n",
            "\n",
            "[%] Downloading Image #23 from http://www.babyshowerideas4u.com/wp-content/uploads/2016/03/Baby-Shower-Elephants-Flowers.jpg\n",
            "[%] File Downloaded !\n",
            "\n",
            "[%] Downloading Image #24 from http://4.bp.blogspot.com/_XZEJOXcMQiI/S2PNCAn6gCI/AAAAAAAAA5E/aS3e5GKsJoM/s640/Funny_People_pics_10_18.jpg\n",
            "[%] File Downloaded !\n",
            "\n",
            "[%] Downloading Image #25 from https://hative.com/wp-content/uploads/2014/10/pumpkin-carving-ideas/19-abstract-pumpkin.jpg\n",
            "[%] File Downloaded !\n",
            "\n",
            "[%] Downloading Image #26 from http://www.babyshowerideas4u.com/wp-content/uploads/2014/01/boy-7.jpg\n",
            "[%] File Downloaded !\n",
            "\n",
            "[%] Downloading Image #27 from https://www.gratistodo.com/wp-content/uploads/2016/12/elefantes-wallpapers-24.jpg\n",
            "[%] File Downloaded !\n",
            "\n",
            "[%] Downloading Image #28 from http://thirdmonk.net/postcont/2013/04/Vladamir-Kush-Surreal-Painting-Art-Gallery-Ship-Clouds.jpg\n",
            "[%] File Downloaded !\n",
            "\n",
            "[%] Downloading Image #29 from https://ww1.prweb.com/prfiles/2010/09/13/3945524/Peter2.jpg\n",
            "[%] File Downloaded !\n",
            "\n",
            "[%] Downloading Image #30 from https://images.gawker.com/18r8g5ynq2zv6jpg/original.jpg\n",
            "[%] File Downloaded !\n",
            "\n",
            "[%] Downloading Image #31 from http://www.diyhowto.org/wp-content/uploads/DIYHowto-Crochet-Ankle-High-Baby-Booties-Free-Patterns-21.jpg\n",
            "[%] File Downloaded !\n",
            "\n",
            "[%] Downloading Image #32 from https://www.hdwallpapers.in/download/deadly_snake-1920x1200.jpg\n",
            "[%] File Downloaded !\n",
            "\n",
            "\n",
            "\n",
            "[!!]Indexing page: 4\n",
            "\n",
            "[%] Indexed 9 Images on Page 4.\n",
            "\n",
            "===============================================\n",
            "\n",
            "[%] Downloading Image #33 from https://hative.com/wp-content/uploads/2014/10/pumpkin-carving-ideas/19-abstract-pumpkin.jpg\n",
            "[%] File Downloaded !\n",
            "\n",
            "[%] Downloading Image #34 from https://ww1.prweb.com/prfiles/2010/09/13/3945524/Peter2.jpg\n",
            "[%] File Downloaded !\n",
            "\n",
            "[%] Downloading Image #35 from https://www.gratistodo.com/wp-content/uploads/2016/12/elefantes-wallpapers-24.jpg\n",
            "[%] File Downloaded !\n",
            "\n",
            "[%] Downloading Image #36 from http://www.babyshowerideas4u.com/wp-content/uploads/2014/01/boy-7.jpg\n",
            "[%] File Downloaded !\n",
            "\n",
            "[%] Downloading Image #37 from https://images.gawker.com/18r8g5ynq2zv6jpg/original.jpg\n",
            "[%] File Downloaded !\n",
            "\n",
            "[%] Downloading Image #38 from http://www.diyhowto.org/wp-content/uploads/DIYHowto-Crochet-Ankle-High-Baby-Booties-Free-Patterns-21.jpg\n",
            "[%] File Downloaded !\n",
            "\n",
            "[%] Downloading Image #39 from https://www.hdwallpapers.in/download/deadly_snake-1920x1200.jpg\n",
            "[%] File Downloaded !\n",
            "\n",
            "[%] Downloading Image #40 from http://4.bp.blogspot.com/_XZEJOXcMQiI/S2PNCAn6gCI/AAAAAAAAA5E/aS3e5GKsJoM/s640/Funny_People_pics_10_18.jpg\n",
            "[%] File Downloaded !\n",
            "\n",
            "[%] Downloading Image #41 from http://thirdmonk.net/postcont/2013/04/Vladamir-Kush-Surreal-Painting-Art-Gallery-Ship-Clouds.jpg\n",
            "[%] File Downloaded !\n",
            "\n",
            "\n",
            "\n",
            "[!!]Indexing page: 5\n",
            "\n",
            "[%] Indexed 8 Images on Page 5.\n",
            "\n",
            "===============================================\n",
            "\n",
            "[%] Downloading Image #42 from https://www.gratistodo.com/wp-content/uploads/2016/12/elefantes-wallpapers-24.jpg\n",
            "[%] File Downloaded !\n",
            "\n",
            "[%] Downloading Image #43 from http://www.babyshowerideas4u.com/wp-content/uploads/2014/01/boy-7.jpg\n",
            "[%] File Downloaded !\n",
            "\n",
            "[%] Downloading Image #44 from https://images.gawker.com/18r8g5ynq2zv6jpg/original.jpg\n",
            "[%] File Downloaded !\n",
            "\n",
            "[%] Downloading Image #45 from https://www.hdwallpapers.in/download/deadly_snake-1920x1200.jpg\n",
            "[%] File Downloaded !\n",
            "\n",
            "[%] Downloading Image #46 from http://thirdmonk.net/postcont/2013/04/Vladamir-Kush-Surreal-Painting-Art-Gallery-Ship-Clouds.jpg\n",
            "[%] File Downloaded !\n",
            "\n",
            "[%] Downloading Image #47 from https://ww1.prweb.com/prfiles/2010/09/13/3945524/Peter2.jpg\n",
            "[%] File Downloaded !\n",
            "\n",
            "[%] Downloading Image #48 from http://4.bp.blogspot.com/_XZEJOXcMQiI/S2PNCAn6gCI/AAAAAAAAA5E/aS3e5GKsJoM/s640/Funny_People_pics_10_18.jpg\n",
            "[%] File Downloaded !\n",
            "\n",
            "[%] Downloading Image #49 from http://www.diyhowto.org/wp-content/uploads/DIYHowto-Crochet-Ankle-High-Baby-Booties-Free-Patterns-21.jpg\n",
            "[%] File Downloaded !\n",
            "\n",
            "\n",
            "\n",
            "[!!]Indexing page: 6\n",
            "\n",
            "[%] Indexed 7 Images on Page 6.\n",
            "\n",
            "===============================================\n",
            "\n",
            "[%] Downloading Image #50 from https://images.gawker.com/18r8g5ynq2zv6jpg/original.jpg\n",
            "[%] File Downloaded !\n",
            "\n",
            "\n",
            "\n",
            "[%] Done. Downloaded 50 images.\n",
            "\n",
            "===============================================\n",
            "\n"
          ],
          "name": "stdout"
        }
      ]
    },
    {
      "cell_type": "code",
      "metadata": {
        "colab": {
          "base_uri": "https://localhost:8080/"
        },
        "id": "HSbqREXB4sO_",
        "outputId": "dab2dce6-7a31-46fd-885e-21d222ff9b40"
      },
      "source": [
        "# Downloading the images of Lion from bing image downloader\n",
        "downloader.download(\"Lion\",limit=50, output_dir=\"images\")"
      ],
      "execution_count": 5,
      "outputs": [
        {
          "output_type": "stream",
          "text": [
            "\n",
            "\n",
            "[!!]Indexing page: 1\n",
            "\n",
            "[%] Indexed 12 Images on Page 1.\n",
            "\n",
            "===============================================\n",
            "\n",
            "[%] Downloading Image #1 from https://3.bp.blogspot.com/-g08u0FTBdIo/WCtOAkiI93I/AAAAAAACc68/9ybnJffqICgtcdMvkRJQ7cOPqE5RmW-tgCLcB/s1600/melanie-griffith-and-her-pet-lion-15.jpg\n",
            "[%] File Downloaded !\n",
            "\n",
            "[%] Downloading Image #2 from https://hative.com/wp-content/uploads/2014/10/diy-halloween-mask-crafts/5-3d-cardboard-mask.jpg\n",
            "[%] File Downloaded !\n",
            "\n",
            "[%] Downloading Image #3 from http://sunkyongkim.com/wp-content/uploads/2015/03/0061.jpg\n",
            "[%] File Downloaded !\n",
            "\n",
            "[%] Downloading Image #4 from https://www.hdwallpapers.in/download/brown_black_cat_with_pink_flower_on_green_grass_in_blur_green_background_hd_kitten-1600x900.jpg\n",
            "[%] File Downloaded !\n",
            "\n",
            "[%] Downloading Image #5 from https://family.disney.com/wp-content/uploads/2018/04/Crafts-Goofy-Dog-Ears-Elise-Apffel-8.jpg\n",
            "[%] File Downloaded !\n",
            "\n",
            "[%] Downloading Image #6 from https://www.hdwallpapers.in/download/roaring_lion-2560x1440.jpg\n",
            "[%] File Downloaded !\n",
            "\n",
            "[%] Downloading Image #7 from https://weneedfun.com/wp-content/uploads/2016/08/Beautiful-Ocean-Sunrise-Sunset-Photos-22.jpg\n",
            "[%] File Downloaded !\n",
            "\n",
            "[%] Downloading Image #8 from https://thefunnybeaver.com/wp-content/uploads/2015/10/crazy-trail-cam-pictures-13.jpg\n",
            "[%] File Downloaded !\n",
            "\n",
            "[%] Downloading Image #9 from http://static.reservedirect.com/media/reviews/15736/images/20181102_185638.jpg\n",
            "[%] File Downloaded !\n",
            "\n",
            "[%] Downloading Image #10 from https://wallpapershome.com/images/wallpapers/el-capitan-2160x3840-mountain-yosemite-national-park-california-5k-15172.jpg\n",
            "[%] File Downloaded !\n",
            "\n",
            "[%] Downloading Image #11 from http://www.wallpapers13.com/wp-content/uploads/2016/01/Autumn-red-forest-rays-ultra_hd-wallpaper-3840x2160-1024x576.jpg\n",
            "[%] File Downloaded !\n",
            "\n",
            "[%] Downloading Image #12 from https://www.hdwallpapers.in/download/cyberpunk_girl_4k-1366x768.jpg\n",
            "[%] File Downloaded !\n",
            "\n",
            "\n",
            "\n",
            "[!!]Indexing page: 2\n",
            "\n",
            "[%] Indexed 12 Images on Page 2.\n",
            "\n",
            "===============================================\n",
            "\n",
            "[%] Downloading Image #13 from https://thumbs.dreamstime.com/x/close-up-lion-s-head-4-half-years-p-5877583.jpg\n",
            "[%] File Downloaded !\n",
            "\n",
            "[%] Downloading Image #14 from http://messagenote.com/wp-content/uploads/2015/07/Hunting-lodge.jpg\n",
            "[%] File Downloaded !\n",
            "\n",
            "[%] Downloading Image #15 from http://tract.jp/blog/wp-content/uploads/2014/04/56_TestPilot_07.jpg\n",
            "[%] File Downloaded !\n",
            "\n",
            "[%] Downloading Image #16 from https://media.moddb.com/cache/images/groups/1/3/2055/thumb_620x2000/Destruction_of_Caliban.1.jpg\n",
            "[%] File Downloaded !\n",
            "\n",
            "[%] Downloading Image #17 from http://papers.co/wallpaper/papers.co-ma99-blow-dandelion-flower-nature-34-iphone6-plus-wallpaper.jpg\n",
            "[%] File Downloaded !\n",
            "\n",
            "[%] Downloading Image #18 from https://bestanimations.com/Animals/Mammals/Cats/Tigers/whitetiger/beautiful-white-tiger-image-4.jpg\n",
            "[%] File Downloaded !\n",
            "\n",
            "[%] Downloading Image #19 from https://hative.com/wp-content/uploads/2014/10/diy-halloween-mask-crafts/20-paperbag-mask.jpg\n",
            "[%] File Downloaded !\n",
            "\n",
            "[%] Downloading Image #20 from http://www.recreoviral.com/wp-content/uploads/2014/05/leon.jpg\n",
            "[%] File Downloaded !\n",
            "\n",
            "[%] Downloading Image #21 from http://www.hdwallpapers.in/download/monument_valley-1366x768.jpg\n",
            "[%] File Downloaded !\n",
            "\n",
            "[%] Downloading Image #22 from https://www.hdwallpapers.in/download/crazy_pug-1920x1080.jpg\n",
            "[%] File Downloaded !\n",
            "\n",
            "[%] Downloading Image #23 from https://www.shambhala.com/wp/wp-content/uploads/2017/04/Altar-incense-1-e1528734906245.jpg\n",
            "[%] File Downloaded !\n",
            "\n",
            "[%] Downloading Image #24 from https://spongekids.com/wp-content/uploads/2014/04/pipe-cleaner-animals/36-pipe-cleaner-rhino.jpg\n",
            "[%] File Downloaded !\n",
            "\n",
            "\n",
            "\n",
            "[!!]Indexing page: 3\n",
            "\n",
            "[%] Indexed 11 Images on Page 3.\n",
            "\n",
            "===============================================\n",
            "\n",
            "[%] Downloading Image #25 from https://media.moddb.com/cache/images/groups/1/3/2055/thumb_620x2000/Destruction_of_Caliban.1.jpg\n",
            "[%] File Downloaded !\n",
            "\n",
            "[%] Downloading Image #26 from https://hative.com/wp-content/uploads/2014/10/diy-halloween-mask-crafts/20-paperbag-mask.jpg\n",
            "[%] File Downloaded !\n",
            "\n",
            "[%] Downloading Image #27 from https://bestanimations.com/Animals/Mammals/Cats/Tigers/whitetiger/beautiful-white-tiger-image-4.jpg\n",
            "[%] File Downloaded !\n",
            "\n",
            "[%] Downloading Image #28 from https://www.shambhala.com/wp/wp-content/uploads/2017/04/Altar-incense-1-e1528734906245.jpg\n",
            "[%] File Downloaded !\n",
            "\n",
            "[%] Downloading Image #29 from http://www.recreoviral.com/wp-content/uploads/2014/05/leon.jpg\n",
            "[%] File Downloaded !\n",
            "\n",
            "[%] Downloading Image #30 from http://papers.co/wallpaper/papers.co-ma99-blow-dandelion-flower-nature-34-iphone6-plus-wallpaper.jpg\n",
            "[%] File Downloaded !\n",
            "\n",
            "[%] Downloading Image #31 from https://spongekids.com/wp-content/uploads/2014/04/pipe-cleaner-animals/36-pipe-cleaner-rhino.jpg\n",
            "[%] File Downloaded !\n",
            "\n",
            "[%] Downloading Image #32 from http://tract.jp/blog/wp-content/uploads/2014/04/56_TestPilot_07.jpg\n",
            "[%] File Downloaded !\n",
            "\n",
            "[%] Downloading Image #33 from http://www.hdwallpapers.in/download/monument_valley-1366x768.jpg\n",
            "[%] File Downloaded !\n",
            "\n",
            "[%] Downloading Image #34 from https://www.hdwallpapers.in/download/crazy_pug-1920x1080.jpg\n",
            "[%] File Downloaded !\n",
            "\n",
            "[%] Downloading Image #35 from http://messagenote.com/wp-content/uploads/2015/07/Hunting-lodge.jpg\n",
            "[%] File Downloaded !\n",
            "\n",
            "\n",
            "\n",
            "[!!]Indexing page: 4\n",
            "\n",
            "[%] Indexed 10 Images on Page 4.\n",
            "\n",
            "===============================================\n",
            "\n",
            "[%] Downloading Image #36 from https://bestanimations.com/Animals/Mammals/Cats/Tigers/whitetiger/beautiful-white-tiger-image-4.jpg\n",
            "[%] File Downloaded !\n",
            "\n",
            "[%] Downloading Image #37 from https://www.shambhala.com/wp/wp-content/uploads/2017/04/Altar-incense-1-e1528734906245.jpg\n",
            "[%] File Downloaded !\n",
            "\n",
            "[%] Downloading Image #38 from http://www.recreoviral.com/wp-content/uploads/2014/05/leon.jpg\n",
            "[%] File Downloaded !\n",
            "\n",
            "[%] Downloading Image #39 from http://messagenote.com/wp-content/uploads/2015/07/Hunting-lodge.jpg\n",
            "[%] File Downloaded !\n",
            "\n",
            "[%] Downloading Image #40 from https://spongekids.com/wp-content/uploads/2014/04/pipe-cleaner-animals/36-pipe-cleaner-rhino.jpg\n",
            "[%] File Downloaded !\n",
            "\n",
            "[%] Downloading Image #41 from https://hative.com/wp-content/uploads/2014/10/diy-halloween-mask-crafts/20-paperbag-mask.jpg\n",
            "[%] File Downloaded !\n",
            "\n",
            "[%] Downloading Image #42 from http://www.hdwallpapers.in/download/monument_valley-1366x768.jpg\n",
            "[%] File Downloaded !\n",
            "\n",
            "[%] Downloading Image #43 from http://papers.co/wallpaper/papers.co-ma99-blow-dandelion-flower-nature-34-iphone6-plus-wallpaper.jpg\n",
            "[%] File Downloaded !\n",
            "\n",
            "[%] Downloading Image #44 from https://www.hdwallpapers.in/download/crazy_pug-1920x1080.jpg\n",
            "[%] File Downloaded !\n",
            "\n",
            "[%] Downloading Image #45 from http://tract.jp/blog/wp-content/uploads/2014/04/56_TestPilot_07.jpg\n",
            "[%] File Downloaded !\n",
            "\n",
            "\n",
            "\n",
            "[!!]Indexing page: 5\n",
            "\n",
            "[%] Indexed 9 Images on Page 5.\n",
            "\n",
            "===============================================\n",
            "\n",
            "[%] Downloading Image #46 from http://www.recreoviral.com/wp-content/uploads/2014/05/leon.jpg\n",
            "[%] File Downloaded !\n",
            "\n",
            "[%] Downloading Image #47 from https://hative.com/wp-content/uploads/2014/10/diy-halloween-mask-crafts/20-paperbag-mask.jpg\n",
            "[%] File Downloaded !\n",
            "\n",
            "[%] Downloading Image #48 from https://spongekids.com/wp-content/uploads/2014/04/pipe-cleaner-animals/36-pipe-cleaner-rhino.jpg\n",
            "[%] File Downloaded !\n",
            "\n",
            "[%] Downloading Image #49 from https://www.shambhala.com/wp/wp-content/uploads/2017/04/Altar-incense-1-e1528734906245.jpg\n",
            "[%] File Downloaded !\n",
            "\n",
            "[%] Downloading Image #50 from http://www.hdwallpapers.in/download/monument_valley-1366x768.jpg\n",
            "[%] File Downloaded !\n",
            "\n",
            "\n",
            "\n",
            "[%] Done. Downloaded 50 images.\n",
            "\n",
            "===============================================\n",
            "\n"
          ],
          "name": "stdout"
        }
      ]
    },
    {
      "cell_type": "code",
      "metadata": {
        "colab": {
          "base_uri": "https://localhost:8080/"
        },
        "id": "ZdHXAqU2nTr-",
        "outputId": "27faacf1-7430-45c1-bc29-a9addd7997ab"
      },
      "source": [
        "downloader.download(\"Panda\",limit=50, output_dir=\"images\")"
      ],
      "execution_count": 6,
      "outputs": [
        {
          "output_type": "stream",
          "text": [
            "\n",
            "\n",
            "[!!]Indexing page: 1\n",
            "\n",
            "[%] Indexed 12 Images on Page 1.\n",
            "\n",
            "===============================================\n",
            "\n",
            "[%] Downloading Image #1 from https://wallpapershome.com/images/wallpapers/panda-1440x2560-giant-zoo-china-cute-animals-3934.jpg\n",
            "[%] File Downloaded !\n",
            "\n",
            "[%] Downloading Image #2 from https://wallpapershome.com/images/wallpapers/red-panda-2160x3840-animal-nature-branch-green-fur-wild-1343.jpg\n",
            "[%] File Downloaded !\n",
            "\n",
            "[%] Downloading Image #3 from https://cdn.architecturendesign.net/wp-content/uploads/2018/06/AD-Flat-Earth-Funny-Memes-23.jpg\n",
            "[%] File Downloaded !\n",
            "\n",
            "[%] Downloading Image #4 from https://oddstuffmagazine.com/wp-content/uploads/2017/10/funny-cat-face-650x931.jpg\n",
            "[%] File Downloaded !\n",
            "\n",
            "[%] Downloading Image #5 from http://www.trendzified.net/wp-content/uploads/2014/10/20140614_192304__880.jpg\n",
            "[%] File Downloaded !\n",
            "\n",
            "[%] Downloading Image #6 from http://cdn.architecturendesign.net/wp-content/uploads/2015/11/AD-Moss-Walls-Green-Interior-Design-Trend-04.jpg\n",
            "[%] File Downloaded !\n",
            "\n",
            "[%] Downloading Image #7 from https://rumorscity.com/wp-content/uploads/2014/12/Creative-DIY-Alternative-Christmas-Tree-02.jpg\n",
            "[%] File Downloaded !\n",
            "\n",
            "[%] Downloading Image #8 from https://cdn.architecturendesign.net/wp-content/uploads/2018/02/AD-Funny-Librarian-Jokes-06.jpg\n",
            "[%] File Downloaded !\n",
            "\n",
            "[%] Downloading Image #9 from https://hative.com/wp-content/uploads/2014/04/pipe-cleaner-animals/15-white-tailed-deer.jpg\n",
            "[%] File Downloaded !\n",
            "\n",
            "[%] Downloading Image #10 from https://pandachirari.com/view/contents/008/078/tKaCUprXUQwq.jpg\n",
            "[%] File Downloaded !\n",
            "\n",
            "[%] Downloading Image #11 from http://animaals.com/wp-content/uploads/2015/06/panda-roux-11.jpg?x39126\n",
            "[%] File Downloaded !\n",
            "\n",
            "[%] Downloading Image #12 from http://cdn.architecturendesign.net/wp-content/uploads/2015/07/AD-Fairy-Tale-Viking-Architecture-Norway-03.jpg\n",
            "[%] File Downloaded !\n",
            "\n",
            "\n",
            "\n",
            "[!!]Indexing page: 2\n",
            "\n",
            "[%] Indexed 12 Images on Page 2.\n",
            "\n",
            "===============================================\n",
            "\n",
            "[%] Downloading Image #13 from https://wallpapershome.com/images/wallpapers/panda-1440x2560-giant-zoo-china-cute-animals-3934.jpg\n",
            "[%] File Downloaded !\n",
            "\n",
            "[%] Downloading Image #14 from https://wallpapershome.com/images/wallpapers/red-panda-2160x3840-animal-nature-branch-green-fur-wild-1343.jpg\n",
            "[%] File Downloaded !\n",
            "\n",
            "[%] Downloading Image #15 from https://cdn.architecturendesign.net/wp-content/uploads/2018/06/AD-Flat-Earth-Funny-Memes-23.jpg\n",
            "[%] File Downloaded !\n",
            "\n",
            "[%] Downloading Image #16 from https://oddstuffmagazine.com/wp-content/uploads/2017/10/funny-cat-face-650x931.jpg\n",
            "[%] File Downloaded !\n",
            "\n",
            "[%] Downloading Image #17 from http://www.trendzified.net/wp-content/uploads/2014/10/20140614_192304__880.jpg\n",
            "[%] File Downloaded !\n",
            "\n",
            "[%] Downloading Image #18 from http://cdn.architecturendesign.net/wp-content/uploads/2015/11/AD-Moss-Walls-Green-Interior-Design-Trend-04.jpg\n",
            "[%] File Downloaded !\n",
            "\n",
            "[%] Downloading Image #19 from https://rumorscity.com/wp-content/uploads/2014/12/Creative-DIY-Alternative-Christmas-Tree-02.jpg\n",
            "[%] File Downloaded !\n",
            "\n",
            "[%] Downloading Image #20 from https://cdn.architecturendesign.net/wp-content/uploads/2018/02/AD-Funny-Librarian-Jokes-06.jpg\n",
            "[%] File Downloaded !\n",
            "\n",
            "[%] Downloading Image #21 from https://hative.com/wp-content/uploads/2014/04/pipe-cleaner-animals/15-white-tailed-deer.jpg\n",
            "[%] File Downloaded !\n",
            "\n",
            "[%] Downloading Image #22 from https://pandachirari.com/view/contents/008/078/tKaCUprXUQwq.jpg\n",
            "[%] File Downloaded !\n",
            "\n",
            "[%] Downloading Image #23 from http://animaals.com/wp-content/uploads/2015/06/panda-roux-11.jpg?x39126\n",
            "[%] File Downloaded !\n",
            "\n",
            "[%] Downloading Image #24 from http://cdn.architecturendesign.net/wp-content/uploads/2015/07/AD-Fairy-Tale-Viking-Architecture-Norway-03.jpg\n",
            "[%] File Downloaded !\n",
            "\n",
            "\n",
            "\n",
            "[!!]Indexing page: 3\n",
            "\n",
            "[%] Indexed 11 Images on Page 3.\n",
            "\n",
            "===============================================\n",
            "\n",
            "[%] Downloading Image #25 from https://wallpapershome.com/images/wallpapers/red-panda-2160x3840-animal-nature-branch-green-fur-wild-1343.jpg\n",
            "[%] File Downloaded !\n",
            "\n",
            "[%] Downloading Image #26 from http://cdn.architecturendesign.net/wp-content/uploads/2015/07/AD-Fairy-Tale-Viking-Architecture-Norway-03.jpg\n",
            "[%] File Downloaded !\n",
            "\n",
            "[%] Downloading Image #27 from http://www.trendzified.net/wp-content/uploads/2014/10/20140614_192304__880.jpg\n",
            "[%] File Downloaded !\n",
            "\n",
            "[%] Downloading Image #28 from https://hative.com/wp-content/uploads/2014/04/pipe-cleaner-animals/15-white-tailed-deer.jpg\n",
            "[%] File Downloaded !\n",
            "\n",
            "[%] Downloading Image #29 from https://rumorscity.com/wp-content/uploads/2014/12/Creative-DIY-Alternative-Christmas-Tree-02.jpg\n",
            "[%] File Downloaded !\n",
            "\n",
            "[%] Downloading Image #30 from https://cdn.architecturendesign.net/wp-content/uploads/2018/02/AD-Funny-Librarian-Jokes-06.jpg\n",
            "[%] File Downloaded !\n",
            "\n",
            "[%] Downloading Image #31 from https://cdn.architecturendesign.net/wp-content/uploads/2018/06/AD-Flat-Earth-Funny-Memes-23.jpg\n",
            "[%] File Downloaded !\n",
            "\n",
            "[%] Downloading Image #32 from https://pandachirari.com/view/contents/008/078/tKaCUprXUQwq.jpg\n",
            "[%] File Downloaded !\n",
            "\n",
            "[%] Downloading Image #33 from http://animaals.com/wp-content/uploads/2015/06/panda-roux-11.jpg?x39126\n",
            "[%] File Downloaded !\n",
            "\n",
            "[%] Downloading Image #34 from https://oddstuffmagazine.com/wp-content/uploads/2017/10/funny-cat-face-650x931.jpg\n",
            "[%] File Downloaded !\n",
            "\n",
            "[%] Downloading Image #35 from http://cdn.architecturendesign.net/wp-content/uploads/2015/11/AD-Moss-Walls-Green-Interior-Design-Trend-04.jpg\n",
            "[%] File Downloaded !\n",
            "\n",
            "\n",
            "\n",
            "[!!]Indexing page: 4\n",
            "\n",
            "[%] Indexed 10 Images on Page 4.\n",
            "\n",
            "===============================================\n",
            "\n",
            "[%] Downloading Image #36 from http://www.trendzified.net/wp-content/uploads/2014/10/20140614_192304__880.jpg\n",
            "[%] File Downloaded !\n",
            "\n",
            "[%] Downloading Image #37 from https://cdn.architecturendesign.net/wp-content/uploads/2018/02/AD-Funny-Librarian-Jokes-06.jpg\n",
            "[%] File Downloaded !\n",
            "\n",
            "[%] Downloading Image #38 from https://cdn.architecturendesign.net/wp-content/uploads/2018/06/AD-Flat-Earth-Funny-Memes-23.jpg\n",
            "[%] File Downloaded !\n",
            "\n",
            "[%] Downloading Image #39 from https://rumorscity.com/wp-content/uploads/2014/12/Creative-DIY-Alternative-Christmas-Tree-02.jpg\n",
            "[%] File Downloaded !\n",
            "\n",
            "[%] Downloading Image #40 from http://animaals.com/wp-content/uploads/2015/06/panda-roux-11.jpg?x39126\n",
            "[%] File Downloaded !\n",
            "\n",
            "[%] Downloading Image #41 from https://pandachirari.com/view/contents/008/078/tKaCUprXUQwq.jpg\n",
            "[%] File Downloaded !\n",
            "\n",
            "[%] Downloading Image #42 from http://cdn.architecturendesign.net/wp-content/uploads/2015/11/AD-Moss-Walls-Green-Interior-Design-Trend-04.jpg\n",
            "[%] File Downloaded !\n",
            "\n",
            "[%] Downloading Image #43 from https://oddstuffmagazine.com/wp-content/uploads/2017/10/funny-cat-face-650x931.jpg\n",
            "[%] File Downloaded !\n",
            "\n",
            "[%] Downloading Image #44 from https://hative.com/wp-content/uploads/2014/04/pipe-cleaner-animals/15-white-tailed-deer.jpg\n",
            "[%] File Downloaded !\n",
            "\n",
            "[%] Downloading Image #45 from http://cdn.architecturendesign.net/wp-content/uploads/2015/07/AD-Fairy-Tale-Viking-Architecture-Norway-03.jpg\n",
            "[%] File Downloaded !\n",
            "\n",
            "\n",
            "\n",
            "[!!]Indexing page: 5\n",
            "\n",
            "[%] Indexed 9 Images on Page 5.\n",
            "\n",
            "===============================================\n",
            "\n",
            "[%] Downloading Image #46 from https://weneedfun.com/wp-content/uploads/2016/08/Maastricht-wallpaper-7.jpg\n",
            "[%] File Downloaded !\n",
            "\n",
            "[%] Downloading Image #47 from https://pandachirari.com/view/contents/005/145/9_20180227193241696s.jpg\n",
            "[%] File Downloaded !\n",
            "\n",
            "[%] Downloading Image #48 from https://cdn.designbump.com/wp-content/uploads/2014/09/funny-jumping-cats-96__880.jpg\n",
            "[%] File Downloaded !\n",
            "\n",
            "[%] Downloading Image #49 from https://pandachirari.com/view/contents/007/011/6at5r7eatgeatea.jpg\n",
            "[%] File Downloaded !\n",
            "\n",
            "[%] Downloading Image #50 from https://s3.amazonaws.com/cbclientassets/wp-content/uploads/sites/16/2018/04/11131736/Overhead-Garage-Doors-5.jpg\n",
            "[%] File Downloaded !\n",
            "\n",
            "\n",
            "\n",
            "[%] Done. Downloaded 50 images.\n",
            "\n",
            "===============================================\n",
            "\n"
          ],
          "name": "stdout"
        }
      ]
    },
    {
      "cell_type": "code",
      "metadata": {
        "id": "bN9ZL_QI4uRZ"
      },
      "source": [
        "#importing all the required liberaries \n",
        "import os\n",
        "import matplotlib.pyplot as plt\n",
        "import numpy as np\n",
        "from skimage.io import imread\n",
        "from skimage.transform import resize"
      ],
      "execution_count": 7,
      "outputs": []
    },
    {
      "cell_type": "code",
      "metadata": {
        "id": "d9ce3eqpGc65"
      },
      "source": [
        "flattened_data=[]\n",
        "images=[]\n",
        "target=[]"
      ],
      "execution_count": 8,
      "outputs": []
    },
    {
      "cell_type": "code",
      "metadata": {
        "colab": {
          "base_uri": "https://localhost:8080/"
        },
        "id": "VQ8u-a6R5HKA",
        "outputId": "806d01fe-8d03-49f4-f6bb-2bdcfb3da559"
      },
      "source": [
        "# Obtaining the path of all the data\n",
        "datas='/content/images'\n",
        "contents=['Elephant','Lion','Giraffe','Panda']\n",
        "for content in contents:\n",
        "  indexing=contents.index(content)\n",
        "  print(indexing)\n",
        "  path=os.path.join(datas,content)\n",
        "  print(path)\n",
        "  for image in os.listdir(path):\n",
        "    images_array=imread(os.path.join(path,image))\n",
        "    #print(images_array.shape) # To know the dimensions of the data\n",
        "    image_resized=resize(images_array,(150,150,3)) # Resizing the data\n",
        "    flattened_data.append(image_resized.flatten()) #Flattening the data\n",
        "    images.append(image_resized)\n",
        "    target.append(indexing)\n",
        "  \n",
        "  \n",
        "flattened_data=np.array(flattened_data)\n",
        "target=np.array(target)\n",
        "images=np.array(images)"
      ],
      "execution_count": 9,
      "outputs": [
        {
          "output_type": "stream",
          "text": [
            "0\n",
            "/content/images/Elephant\n",
            "1\n",
            "/content/images/Lion\n",
            "2\n",
            "/content/images/Giraffe\n",
            "3\n",
            "/content/images/Panda\n"
          ],
          "name": "stdout"
        }
      ]
    },
    {
      "cell_type": "code",
      "metadata": {
        "colab": {
          "base_uri": "https://localhost:8080/"
        },
        "id": "pxbcXoYcDBEM",
        "outputId": "a7e4f2c2-1da4-4d0f-be0a-7e6c81ebaa4f"
      },
      "source": [
        "flattened_data[0]"
      ],
      "execution_count": 10,
      "outputs": [
        {
          "output_type": "execute_result",
          "data": {
            "text/plain": [
              "array([0.7543024 , 0.67587102, 0.67979259, ..., 0.66823704, 0.61589542,\n",
              "       0.66026144])"
            ]
          },
          "metadata": {
            "tags": []
          },
          "execution_count": 10
        }
      ]
    },
    {
      "cell_type": "code",
      "metadata": {
        "id": "fwSV4nH66kWq"
      },
      "source": [
        "# Splitting the data into training and testing data\n",
        "from sklearn.model_selection import train_test_split\n",
        "x_train,x_test,y_train,y_test= train_test_split(flattened_data,target,test_size=0.3,random_state=0,stratify=target)"
      ],
      "execution_count": 11,
      "outputs": []
    },
    {
      "cell_type": "code",
      "metadata": {
        "colab": {
          "base_uri": "https://localhost:8080/"
        },
        "id": "gIDNY8OJHSrw",
        "outputId": "2a024cb0-9abd-49da-b457-8345f516a359"
      },
      "source": [
        "# Algorithm: Support Vector Machine(SVM)\n",
        "\n",
        "from sklearn.model_selection import GridSearchCV\n",
        "from sklearn import svm\n",
        "param_grid= [\n",
        "             {'C':[1,10,100,1000],'kernel':['linear']},\n",
        "             {'C':[1,10,100,1000],'gamma':[0.001,0.0001],'kernel':['rbf']},\n",
        "]\n",
        "svc = svm.SVC(probability=True)\n",
        "clf = GridSearchCV(svc,param_grid)\n",
        "clf.fit(x_train,y_train)"
      ],
      "execution_count": 12,
      "outputs": [
        {
          "output_type": "execute_result",
          "data": {
            "text/plain": [
              "GridSearchCV(cv=None, error_score=nan,\n",
              "             estimator=SVC(C=1.0, break_ties=False, cache_size=200,\n",
              "                           class_weight=None, coef0=0.0,\n",
              "                           decision_function_shape='ovr', degree=3,\n",
              "                           gamma='scale', kernel='rbf', max_iter=-1,\n",
              "                           probability=True, random_state=None, shrinking=True,\n",
              "                           tol=0.001, verbose=False),\n",
              "             iid='deprecated', n_jobs=None,\n",
              "             param_grid=[{'C': [1, 10, 100, 1000], 'kernel': ['linear']},\n",
              "                         {'C': [1, 10, 100, 1000], 'gamma': [0.001, 0.0001],\n",
              "                          'kernel': ['rbf']}],\n",
              "             pre_dispatch='2*n_jobs', refit=True, return_train_score=False,\n",
              "             scoring=None, verbose=0)"
            ]
          },
          "metadata": {
            "tags": []
          },
          "execution_count": 12
        }
      ]
    },
    {
      "cell_type": "code",
      "metadata": {
        "colab": {
          "base_uri": "https://localhost:8080/"
        },
        "id": "khSsk5dDLOd4",
        "outputId": "5df42eac-817b-4a35-b483-f529f1fbdeb5"
      },
      "source": [
        "y_pred = clf.predict(x_test)\n",
        "y_pred"
      ],
      "execution_count": 13,
      "outputs": [
        {
          "output_type": "execute_result",
          "data": {
            "text/plain": [
              "array([3, 2, 3, 0, 2, 2, 1, 2, 0, 3, 3, 3, 3, 2, 2, 3, 3, 2, 2, 0, 2, 3,\n",
              "       1, 0, 3, 1, 1, 2, 0, 0, 1, 3, 2, 2, 3, 1, 3, 1, 3, 2, 3, 0, 2, 1,\n",
              "       3, 0, 0, 0, 0, 0, 3, 2, 3, 0, 1, 1, 1, 0, 0, 2])"
            ]
          },
          "metadata": {
            "tags": []
          },
          "execution_count": 13
        }
      ]
    },
    {
      "cell_type": "code",
      "metadata": {
        "colab": {
          "base_uri": "https://localhost:8080/"
        },
        "id": "vzVDiRVRN2Jh",
        "outputId": "1cbc2105-5c8c-422e-d179-38cb7dd97b6f"
      },
      "source": [
        "y_test"
      ],
      "execution_count": 14,
      "outputs": [
        {
          "output_type": "execute_result",
          "data": {
            "text/plain": [
              "array([3, 2, 3, 0, 2, 2, 1, 2, 1, 3, 3, 3, 3, 2, 2, 3, 3, 2, 2, 0, 0, 3,\n",
              "       1, 0, 1, 1, 1, 2, 0, 0, 1, 3, 2, 2, 3, 1, 0, 1, 3, 2, 3, 0, 2, 1,\n",
              "       3, 0, 0, 0, 0, 0, 1, 2, 3, 0, 1, 1, 1, 1, 0, 2])"
            ]
          },
          "metadata": {
            "tags": []
          },
          "execution_count": 14
        }
      ]
    },
    {
      "cell_type": "code",
      "metadata": {
        "id": "zkQv2czfN6hh"
      },
      "source": [
        "from sklearn.metrics import accuracy_score,classification_report,confusion_matrix"
      ],
      "execution_count": 15,
      "outputs": []
    },
    {
      "cell_type": "code",
      "metadata": {
        "colab": {
          "base_uri": "https://localhost:8080/"
        },
        "id": "bKoPQFRXOHdj",
        "outputId": "bda59b17-22c9-4012-fdcc-14cb7a5dc286"
      },
      "source": [
        "accuracy_score(y_pred,y_test)"
      ],
      "execution_count": 16,
      "outputs": [
        {
          "output_type": "execute_result",
          "data": {
            "text/plain": [
              "0.9"
            ]
          },
          "metadata": {
            "tags": []
          },
          "execution_count": 16
        }
      ]
    },
    {
      "cell_type": "code",
      "metadata": {
        "colab": {
          "base_uri": "https://localhost:8080/"
        },
        "id": "-0fyRNibONwy",
        "outputId": "5d88558c-3cde-4b5d-9f6f-7fb45f45e7b0"
      },
      "source": [
        "confusion_matrix(y_pred,y_test)"
      ],
      "execution_count": 17,
      "outputs": [
        {
          "output_type": "execute_result",
          "data": {
            "text/plain": [
              "array([[13,  2,  0,  0],\n",
              "       [ 0, 11,  0,  0],\n",
              "       [ 1,  0, 15,  0],\n",
              "       [ 1,  2,  0, 15]])"
            ]
          },
          "metadata": {
            "tags": []
          },
          "execution_count": 17
        }
      ]
    },
    {
      "cell_type": "code",
      "metadata": {
        "colab": {
          "base_uri": "https://localhost:8080/"
        },
        "id": "k_x4o0nJoeo8",
        "outputId": "bffbcc64-48a4-4490-e1ed-e265e42cf1f7"
      },
      "source": [
        "print(classification_report(y_pred,y_test))"
      ],
      "execution_count": 18,
      "outputs": [
        {
          "output_type": "stream",
          "text": [
            "              precision    recall  f1-score   support\n",
            "\n",
            "           0       0.87      0.87      0.87        15\n",
            "           1       0.73      1.00      0.85        11\n",
            "           2       1.00      0.94      0.97        16\n",
            "           3       1.00      0.83      0.91        18\n",
            "\n",
            "    accuracy                           0.90        60\n",
            "   macro avg       0.90      0.91      0.90        60\n",
            "weighted avg       0.92      0.90      0.90        60\n",
            "\n"
          ],
          "name": "stdout"
        }
      ]
    },
    {
      "cell_type": "code",
      "metadata": {
        "id": "qG1cPoywOS7q"
      },
      "source": [
        "import pickle\n",
        "pickle.dump(clf,open('image_model.p','wb'))"
      ],
      "execution_count": 19,
      "outputs": []
    },
    {
      "cell_type": "code",
      "metadata": {
        "id": "0T4-kBfmPPFM"
      },
      "source": [
        "model=pickle.load(open('image_model.p','rb'))"
      ],
      "execution_count": 20,
      "outputs": []
    },
    {
      "cell_type": "code",
      "metadata": {
        "colab": {
          "base_uri": "https://localhost:8080/",
          "height": 321
        },
        "id": "-A4IJ76XPq8p",
        "outputId": "46d70009-a9dc-417e-c2ed-121fd072a1a0"
      },
      "source": [
        "# Testing the new image\n",
        "flattened_data=[]\n",
        "url=input('Enter the url of the image')\n",
        "image = imread(url)\n",
        "image_resized=resize(image,(150,150,3))\n",
        "flattened_data.append(image_resized.flatten())\n",
        "flattened_data=np.array(flattened_data)\n",
        "print(image.shape)\n",
        "plt.imshow(image_resized)\n",
        "y_out=model.predict(flattened_data)\n",
        "y_out=contents[y_out[0]]\n",
        "print(f'Predicted output:{y_out}')"
      ],
      "execution_count": 21,
      "outputs": [
        {
          "output_type": "stream",
          "text": [
            "Enter the url of the imagehttps://ichef.bbci.co.uk/news/1024/branded_news/E0F0/production/_112548575_gettyimages-492611032-1.jpg\n",
            "(576, 1024, 3)\n",
            "Predicted output:Lion\n"
          ],
          "name": "stdout"
        },
        {
          "output_type": "display_data",
          "data": {
            "image/png": "[encoded data removed]",
            "text/plain": [
              "<Figure size 432x288 with 1 Axes>"
            ]
          },
          "metadata": {
            "tags": [],
            "needs_background": "light"
          }
        }
      ]
    },
    {
      "cell_type": "code",
      "metadata": {
        "colab": {
          "base_uri": "https://localhost:8080/",
          "height": 1000
        },
        "id": "m7YfiXQCU8Wj",
        "outputId": "2caeec58-3a15-470e-8f01-07ffad2020ec"
      },
      "source": [
        "!pip install streamlit\n",
        "!pip install pyngrok==4.1.1\n",
        "from pyngrok import ngrok"
      ],
      "execution_count": 22,
      "outputs": [
        {
          "output_type": "stream",
          "text": [
            "Collecting streamlit\n",
            "\u001b[?25l  Downloading https://files.pythonhosted.org/packages/76/a6/2507aedaa1c80d39eccd601129d273f4091720f4b1031997bb52630ba504/streamlit-0.79.0-py2.py3-none-any.whl (7.0MB)\n",
            "\u001b[K     |████████████████████████████████| 7.0MB 8.3MB/s \n",
            "\u001b[?25hCollecting gitpython\n",
            "\u001b[?25l  Downloading https://files.pythonhosted.org/packages/a6/99/98019716955ba243657daedd1de8f3a88ca1f5b75057c38e959db22fb87b/GitPython-3.1.14-py3-none-any.whl (159kB)\n",
            "\u001b[K     |████████████████████████████████| 163kB 47.2MB/s \n",
            "\u001b[?25hRequirement already satisfied: python-dateutil in /usr/local/lib/python3.7/dist-packages (from streamlit) (2.8.1)\n",
            "Requirement already satisfied: numpy in /usr/local/lib/python3.7/dist-packages (from streamlit) (1.19.5)\n",
            "Requirement already satisfied: pillow>=6.2.0 in /usr/local/lib/python3.7/dist-packages (from streamlit) (7.0.0)\n",
            "Requirement already satisfied: toml in /usr/local/lib/python3.7/dist-packages (from streamlit) (0.10.2)\n",
            "Requirement already satisfied: tornado>=5.0 in /usr/local/lib/python3.7/dist-packages (from streamlit) (5.1.1)\n",
            "Requirement already satisfied: requests in /usr/local/lib/python3.7/dist-packages (from streamlit) (2.23.0)\n",
            "Requirement already satisfied: cachetools>=4.0 in /usr/local/lib/python3.7/dist-packages (from streamlit) (4.2.1)\n",
            "Requirement already satisfied: pandas>=0.21.0 in /usr/local/lib/python3.7/dist-packages (from streamlit) (1.1.5)\n",
            "Collecting base58\n",
            "  Downloading https://files.pythonhosted.org/packages/b8/a1/d9f565e9910c09fd325dc638765e8843a19fa696275c16cc08cf3b0a3c25/base58-2.1.0-py3-none-any.whl\n",
            "Collecting watchdog; platform_system != \"Darwin\"\n",
            "\u001b[?25l  Downloading https://files.pythonhosted.org/packages/c6/ba/a36ca5b4e75649a002f06531862467b3eb5c768caa23d6d88b921fe238d8/watchdog-2.0.2-py3-none-manylinux2014_x86_64.whl (74kB)\n",
            "\u001b[K     |████████████████████████████████| 81kB 8.0MB/s \n",
            "\u001b[?25hCollecting pydeck>=0.1.dev5\n",
            "\u001b[?25l  Downloading https://files.pythonhosted.org/packages/1c/3f/8f04ae0c22d82ec7bec7fcc03270a142f637e362bbd285f7daeeda24fbef/pydeck-0.6.1-py2.py3-none-any.whl (4.6MB)\n",
            "\u001b[K     |████████████████████████████████| 4.6MB 54.9MB/s \n",
            "\u001b[?25hRequirement already satisfied: pyarrow; python_version < \"3.9\" in /usr/local/lib/python3.7/dist-packages (from streamlit) (3.0.0)\n",
            "Collecting blinker\n",
            "\u001b[?25l  Downloading https://files.pythonhosted.org/packages/1b/51/e2a9f3b757eb802f61dc1f2b09c8c99f6eb01cf06416c0671253536517b6/blinker-1.4.tar.gz (111kB)\n",
            "\u001b[K     |████████████████████████████████| 112kB 42.2MB/s \n",
            "\u001b[?25hRequirement already satisfied: altair>=3.2.0 in /usr/local/lib/python3.7/dist-packages (from streamlit) (4.1.0)\n",
            "Requirement already satisfied: protobuf!=3.11,>=3.6.0 in /usr/local/lib/python3.7/dist-packages (from streamlit) (3.12.4)\n",
            "Requirement already satisfied: packaging in /usr/local/lib/python3.7/dist-packages (from streamlit) (20.9)\n",
            "Requirement already satisfied: click>=7.0 in /usr/local/lib/python3.7/dist-packages (from streamlit) (7.1.2)\n",
            "Collecting validators\n",
            "  Downloading https://files.pythonhosted.org/packages/db/2f/7fed3ee94ad665ad2c1de87f858f10a7785251ff75b4fd47987888d07ef1/validators-0.18.2-py3-none-any.whl\n",
            "Requirement already satisfied: tzlocal in /usr/local/lib/python3.7/dist-packages (from streamlit) (1.5.1)\n",
            "Requirement already satisfied: astor in /usr/local/lib/python3.7/dist-packages (from streamlit) (0.8.1)\n",
            "Collecting gitdb<5,>=4.0.1\n",
            "\u001b[?25l  Downloading https://files.pythonhosted.org/packages/ea/e8/f414d1a4f0bbc668ed441f74f44c116d9816833a48bf81d22b697090dba8/gitdb-4.0.7-py3-none-any.whl (63kB)\n",
            "\u001b[K     |████████████████████████████████| 71kB 8.0MB/s \n",
            "\u001b[?25hRequirement already satisfied: six>=1.5 in /usr/local/lib/python3.7/dist-packages (from python-dateutil->streamlit) (1.15.0)\n",
            "Requirement already satisfied: chardet<4,>=3.0.2 in /usr/local/lib/python3.7/dist-packages (from requests->streamlit) (3.0.4)\n",
            "Requirement already satisfied: urllib3!=1.25.0,!=1.25.1,<1.26,>=1.21.1 in /usr/local/lib/python3.7/dist-packages (from requests->streamlit) (1.24.3)\n",
            "Requirement already satisfied: certifi>=2017.4.17 in /usr/local/lib/python3.7/dist-packages (from requests->streamlit) (2020.12.5)\n",
            "Requirement already satisfied: idna<3,>=2.5 in /usr/local/lib/python3.7/dist-packages (from requests->streamlit) (2.10)\n",
            "Requirement already satisfied: pytz>=2017.2 in /usr/local/lib/python3.7/dist-packages (from pandas>=0.21.0->streamlit) (2018.9)\n",
            "Requirement already satisfied: traitlets>=4.3.2 in /usr/local/lib/python3.7/dist-packages (from pydeck>=0.1.dev5->streamlit) (5.0.5)\n",
            "Requirement already satisfied: jinja2>=2.10.1 in /usr/local/lib/python3.7/dist-packages (from pydeck>=0.1.dev5->streamlit) (2.11.3)\n",
            "Requirement already satisfied: ipywidgets>=7.0.0 in /usr/local/lib/python3.7/dist-packages (from pydeck>=0.1.dev5->streamlit) (7.6.3)\n",
            "Collecting ipykernel>=5.1.2; python_version >= \"3.4\"\n",
            "\u001b[?25l  Downloading https://files.pythonhosted.org/packages/56/95/3a670c8b2c2370bd8631c313f42e60983b3113ffec4035940592252bd6d5/ipykernel-5.5.0-py3-none-any.whl (120kB)\n",
            "\u001b[K     |████████████████████████████████| 122kB 41.8MB/s \n",
            "\u001b[?25hRequirement already satisfied: entrypoints in /usr/local/lib/python3.7/dist-packages (from altair>=3.2.0->streamlit) (0.3)\n",
            "Requirement already satisfied: toolz in /usr/local/lib/python3.7/dist-packages (from altair>=3.2.0->streamlit) (0.11.1)\n",
            "Requirement already satisfied: jsonschema in /usr/local/lib/python3.7/dist-packages (from altair>=3.2.0->streamlit) (2.6.0)\n",
            "Requirement already satisfied: setuptools in /usr/local/lib/python3.7/dist-packages (from protobuf!=3.11,>=3.6.0->streamlit) (54.1.2)\n",
            "Requirement already satisfied: pyparsing>=2.0.2 in /usr/local/lib/python3.7/dist-packages (from packaging->streamlit) (2.4.7)\n",
            "Requirement already satisfied: decorator>=3.4.0 in /usr/local/lib/python3.7/dist-packages (from validators->streamlit) (4.4.2)\n",
            "Collecting smmap<5,>=3.0.1\n",
            "  Downloading https://files.pythonhosted.org/packages/68/ee/d540eb5e5996eb81c26ceffac6ee49041d473bc5125f2aa995cf51ec1cf1/smmap-4.0.0-py2.py3-none-any.whl\n",
            "Requirement already satisfied: ipython-genutils in /usr/local/lib/python3.7/dist-packages (from traitlets>=4.3.2->pydeck>=0.1.dev5->streamlit) (0.2.0)\n",
            "Requirement already satisfied: MarkupSafe>=0.23 in /usr/local/lib/python3.7/dist-packages (from jinja2>=2.10.1->pydeck>=0.1.dev5->streamlit) (1.1.1)\n",
            "Requirement already satisfied: jupyterlab-widgets>=1.0.0; python_version >= \"3.6\" in /usr/local/lib/python3.7/dist-packages (from ipywidgets>=7.0.0->pydeck>=0.1.dev5->streamlit) (1.0.0)\n",
            "Requirement already satisfied: ipython>=4.0.0; python_version >= \"3.3\" in /usr/local/lib/python3.7/dist-packages (from ipywidgets>=7.0.0->pydeck>=0.1.dev5->streamlit) (5.5.0)\n",
            "Requirement already satisfied: widgetsnbextension~=3.5.0 in /usr/local/lib/python3.7/dist-packages (from ipywidgets>=7.0.0->pydeck>=0.1.dev5->streamlit) (3.5.1)\n",
            "Requirement already satisfied: nbformat>=4.2.0 in /usr/local/lib/python3.7/dist-packages (from ipywidgets>=7.0.0->pydeck>=0.1.dev5->streamlit) (5.1.2)\n",
            "Requirement already satisfied: jupyter-client in /usr/local/lib/python3.7/dist-packages (from ipykernel>=5.1.2; python_version >= \"3.4\"->pydeck>=0.1.dev5->streamlit) (5.3.5)\n",
            "Requirement already satisfied: prompt-toolkit<2.0.0,>=1.0.4 in /usr/local/lib/python3.7/dist-packages (from ipython>=4.0.0; python_version >= \"3.3\"->ipywidgets>=7.0.0->pydeck>=0.1.dev5->streamlit) (1.0.18)\n",
            "Requirement already satisfied: pygments in /usr/local/lib/python3.7/dist-packages (from ipython>=4.0.0; python_version >= \"3.3\"->ipywidgets>=7.0.0->pydeck>=0.1.dev5->streamlit) (2.6.1)\n",
            "Requirement already satisfied: simplegeneric>0.8 in /usr/local/lib/python3.7/dist-packages (from ipython>=4.0.0; python_version >= \"3.3\"->ipywidgets>=7.0.0->pydeck>=0.1.dev5->streamlit) (0.8.1)\n",
            "Requirement already satisfied: pexpect; sys_platform != \"win32\" in /usr/local/lib/python3.7/dist-packages (from ipython>=4.0.0; python_version >= \"3.3\"->ipywidgets>=7.0.0->pydeck>=0.1.dev5->streamlit) (4.8.0)\n",
            "Requirement already satisfied: pickleshare in /usr/local/lib/python3.7/dist-packages (from ipython>=4.0.0; python_version >= \"3.3\"->ipywidgets>=7.0.0->pydeck>=0.1.dev5->streamlit) (0.7.5)\n",
            "Requirement already satisfied: notebook>=4.4.1 in /usr/local/lib/python3.7/dist-packages (from widgetsnbextension~=3.5.0->ipywidgets>=7.0.0->pydeck>=0.1.dev5->streamlit) (5.3.1)\n",
            "Requirement already satisfied: jupyter-core in /usr/local/lib/python3.7/dist-packages (from nbformat>=4.2.0->ipywidgets>=7.0.0->pydeck>=0.1.dev5->streamlit) (4.7.1)\n",
            "Requirement already satisfied: pyzmq>=13 in /usr/local/lib/python3.7/dist-packages (from jupyter-client->ipykernel>=5.1.2; python_version >= \"3.4\"->pydeck>=0.1.dev5->streamlit) (22.0.3)\n",
            "Requirement already satisfied: wcwidth in /usr/local/lib/python3.7/dist-packages (from prompt-toolkit<2.0.0,>=1.0.4->ipython>=4.0.0; python_version >= \"3.3\"->ipywidgets>=7.0.0->pydeck>=0.1.dev5->streamlit) (0.2.5)\n",
            "Requirement already satisfied: ptyprocess>=0.5 in /usr/local/lib/python3.7/dist-packages (from pexpect; sys_platform != \"win32\"->ipython>=4.0.0; python_version >= \"3.3\"->ipywidgets>=7.0.0->pydeck>=0.1.dev5->streamlit) (0.7.0)\n",
            "Requirement already satisfied: nbconvert in /usr/local/lib/python3.7/dist-packages (from notebook>=4.4.1->widgetsnbextension~=3.5.0->ipywidgets>=7.0.0->pydeck>=0.1.dev5->streamlit) (5.6.1)\n",
            "Requirement already satisfied: terminado>=0.8.1 in /usr/local/lib/python3.7/dist-packages (from notebook>=4.4.1->widgetsnbextension~=3.5.0->ipywidgets>=7.0.0->pydeck>=0.1.dev5->streamlit) (0.9.2)\n",
            "Requirement already satisfied: Send2Trash in /usr/local/lib/python3.7/dist-packages (from notebook>=4.4.1->widgetsnbextension~=3.5.0->ipywidgets>=7.0.0->pydeck>=0.1.dev5->streamlit) (1.5.0)\n",
            "Requirement already satisfied: testpath in /usr/local/lib/python3.7/dist-packages (from nbconvert->notebook>=4.4.1->widgetsnbextension~=3.5.0->ipywidgets>=7.0.0->pydeck>=0.1.dev5->streamlit) (0.4.4)\n",
            "Requirement already satisfied: pandocfilters>=1.4.1 in /usr/local/lib/python3.7/dist-packages (from nbconvert->notebook>=4.4.1->widgetsnbextension~=3.5.0->ipywidgets>=7.0.0->pydeck>=0.1.dev5->streamlit) (1.4.3)\n",
            "Requirement already satisfied: mistune<2,>=0.8.1 in /usr/local/lib/python3.7/dist-packages (from nbconvert->notebook>=4.4.1->widgetsnbextension~=3.5.0->ipywidgets>=7.0.0->pydeck>=0.1.dev5->streamlit) (0.8.4)\n",
            "Requirement already satisfied: bleach in /usr/local/lib/python3.7/dist-packages (from nbconvert->notebook>=4.4.1->widgetsnbextension~=3.5.0->ipywidgets>=7.0.0->pydeck>=0.1.dev5->streamlit) (3.3.0)\n",
            "Requirement already satisfied: defusedxml in /usr/local/lib/python3.7/dist-packages (from nbconvert->notebook>=4.4.1->widgetsnbextension~=3.5.0->ipywidgets>=7.0.0->pydeck>=0.1.dev5->streamlit) (0.7.1)\n",
            "Requirement already satisfied: webencodings in /usr/local/lib/python3.7/dist-packages (from bleach->nbconvert->notebook>=4.4.1->widgetsnbextension~=3.5.0->ipywidgets>=7.0.0->pydeck>=0.1.dev5->streamlit) (0.5.1)\n",
            "Building wheels for collected packages: blinker\n",
            "  Building wheel for blinker (setup.py) ... \u001b[?25l\u001b[?25hdone\n",
            "  Created wheel for blinker: filename=blinker-1.4-cp37-none-any.whl size=13448 sha256=56b5a8062ac03169d473427f93e89bfe98cf0a1c95ee2e7ef9c5835988ad2e29\n",
            "  Stored in directory: /root/.cache/pip/wheels/92/a0/00/8690a57883956a301d91cf4ec999cc0b258b01e3f548f86e89\n",
            "Successfully built blinker\n",
            "\u001b[31mERROR: google-colab 1.0.0 has requirement ipykernel~=4.10, but you'll have ipykernel 5.5.0 which is incompatible.\u001b[0m\n",
            "Installing collected packages: smmap, gitdb, gitpython, base58, watchdog, ipykernel, pydeck, blinker, validators, streamlit\n",
            "  Found existing installation: ipykernel 4.10.1\n",
            "    Uninstalling ipykernel-4.10.1:\n",
            "      Successfully uninstalled ipykernel-4.10.1\n",
            "Successfully installed base58-2.1.0 blinker-1.4 gitdb-4.0.7 gitpython-3.1.14 ipykernel-5.5.0 pydeck-0.6.1 smmap-4.0.0 streamlit-0.79.0 validators-0.18.2 watchdog-2.0.2\n"
          ],
          "name": "stdout"
        },
        {
          "output_type": "display_data",
          "data": {
            "application/vnd.colab-display-data+json": {
              "pip_warning": {
                "packages": [
                  "ipykernel"
                ]
              }
            }
          },
          "metadata": {
            "tags": []
          }
        },
        {
          "output_type": "stream",
          "text": [
            "Collecting pyngrok==4.1.1\n",
            "  Downloading https://files.pythonhosted.org/packages/e4/a9/de2e15c92eb3aa4a2646ce3a7542317eb69ac47f667578ce8bf916320847/pyngrok-4.1.1.tar.gz\n",
            "Requirement already satisfied: future in /usr/local/lib/python3.7/dist-packages (from pyngrok==4.1.1) (0.16.0)\n",
            "Requirement already satisfied: PyYAML in /usr/local/lib/python3.7/dist-packages (from pyngrok==4.1.1) (3.13)\n",
            "Building wheels for collected packages: pyngrok\n",
            "  Building wheel for pyngrok (setup.py) ... \u001b[?25l\u001b[?25hdone\n",
            "  Created wheel for pyngrok: filename=pyngrok-4.1.1-cp37-none-any.whl size=15971 sha256=c64e6f897b0d49d55dd3cd6f7c59eb44901d9dba9dbe8612ff331d167c6a5a01\n",
            "  Stored in directory: /root/.cache/pip/wheels/97/71/0d/1695f7c8815c0beb3b5d9b35d6eec9243c87e6070fbe3977fa\n",
            "Successfully built pyngrok\n",
            "Installing collected packages: pyngrok\n",
            "Successfully installed pyngrok-4.1.1\n"
          ],
          "name": "stdout"
        }
      ]
    },
    {
      "cell_type": "code",
      "metadata": {
        "colab": {
          "base_uri": "https://localhost:8080/"
        },
        "id": "rPgpixzdVa3p",
        "outputId": "df447e94-f2fc-4aa3-c5ef-9d2ae3a175a8"
      },
      "source": [
        "# Deployment with web apps\n",
        "%%writefile app.py\n",
        "import streamlit as st\n",
        "import numpy as np\n",
        "from skimage.io import imread\n",
        "from skimage.transform import resize\n",
        "import pickle\n",
        "from PIL import Image\n",
        "st.title('Image Classification using Machine Learning')\n",
        "st.text('Upload the image')\n",
        "model=pickle.load(open('image_model.p','rb'))\n",
        "uploaded_file=st.file_uploader(\"Choose an image....\",type=\"jpg\")\n",
        "if uploaded_file is not None:\n",
        "  image=Image.open(uploaded_file)\n",
        "  st.image(image,caption=\"Image Uploaded\")\n",
        "\n",
        "  if st.button('PREDICT'):\n",
        "    contents=['Elephant','Lion','Giraffe']\n",
        "    st.write('Result....')\n",
        "    flattened_data=[]\n",
        "    image=np.array(image)\n",
        "    image_resized=resize(image,(150,150,3))\n",
        "    flattened_data.append(image_resized.flatten())\n",
        "    flattened_data=np.array(flattened_data)\n",
        "    print(image.shape)\n",
        "    y_out=model.predict(flattened_data)\n",
        "    y_out=contents[y_out[0]]\n",
        "    st.write(f'Predicted output:{y_out}')\n",
        "    percentage_range=model.predict_proba(flattened_data)\n",
        "    for index, item in enumerate(contents):\n",
        "      st.write(f'{item}:{percentage_range[0][index]*100}%')"
      ],
      "execution_count": 23,
      "outputs": [
        {
          "output_type": "stream",
          "text": [
            "Writing app.py\n"
          ],
          "name": "stdout"
        }
      ]
    },
    {
      "cell_type": "code",
      "metadata": {
        "colab": {
          "base_uri": "https://localhost:8080/"
        },
        "id": "lx-aIY2zWA3m",
        "outputId": "016cc5bf-92d3-4538-aaad-1bff5eacbc6e"
      },
      "source": [
        "!nohup streamlit run app.py &\n",
        "url = ngrok.connect(port='8501')\n",
        "print(url)"
      ],
      "execution_count": 24,
      "outputs": [
        {
          "output_type": "stream",
          "text": [
            "nohup: appending output to 'nohup.out'\n",
            "http://31ebc4d683c7.ngrok.io\n"
          ],
          "name": "stdout"
        }
      ]
    }
  ]
}